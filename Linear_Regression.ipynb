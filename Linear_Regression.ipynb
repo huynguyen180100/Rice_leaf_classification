{
 "cells": [
  {
   "cell_type": "code",
   "execution_count": 1,
   "id": "bf7abd9c",
   "metadata": {},
   "outputs": [],
   "source": [
    "import torch\n",
    "import torch.nn as nn\n",
    "import numpy as np\n",
    "import matplotlib.pyplot as plt\n",
    "import pandas as pd"
   ]
  },
  {
   "cell_type": "code",
   "execution_count": 2,
   "id": "d0ab4d23",
   "metadata": {},
   "outputs": [],
   "source": [
    "data = pd.read_csv('advertising.csv', delimiter=',')"
   ]
  },
  {
   "cell_type": "code",
   "execution_count": 3,
   "id": "adb7ec78",
   "metadata": {},
   "outputs": [
    {
     "data": {
      "text/html": [
       "<div>\n",
       "<style scoped>\n",
       "    .dataframe tbody tr th:only-of-type {\n",
       "        vertical-align: middle;\n",
       "    }\n",
       "\n",
       "    .dataframe tbody tr th {\n",
       "        vertical-align: top;\n",
       "    }\n",
       "\n",
       "    .dataframe thead th {\n",
       "        text-align: right;\n",
       "    }\n",
       "</style>\n",
       "<table border=\"1\" class=\"dataframe\">\n",
       "  <thead>\n",
       "    <tr style=\"text-align: right;\">\n",
       "      <th></th>\n",
       "      <th>TV</th>\n",
       "      <th>Radio</th>\n",
       "      <th>Newspaper</th>\n",
       "      <th>Sales</th>\n",
       "    </tr>\n",
       "  </thead>\n",
       "  <tbody>\n",
       "    <tr>\n",
       "      <th>0</th>\n",
       "      <td>230.1</td>\n",
       "      <td>37.8</td>\n",
       "      <td>69.2</td>\n",
       "      <td>22.1</td>\n",
       "    </tr>\n",
       "    <tr>\n",
       "      <th>1</th>\n",
       "      <td>44.5</td>\n",
       "      <td>39.3</td>\n",
       "      <td>45.1</td>\n",
       "      <td>10.4</td>\n",
       "    </tr>\n",
       "    <tr>\n",
       "      <th>2</th>\n",
       "      <td>17.2</td>\n",
       "      <td>45.9</td>\n",
       "      <td>69.3</td>\n",
       "      <td>12.0</td>\n",
       "    </tr>\n",
       "    <tr>\n",
       "      <th>3</th>\n",
       "      <td>151.5</td>\n",
       "      <td>41.3</td>\n",
       "      <td>58.5</td>\n",
       "      <td>16.5</td>\n",
       "    </tr>\n",
       "    <tr>\n",
       "      <th>4</th>\n",
       "      <td>180.8</td>\n",
       "      <td>10.8</td>\n",
       "      <td>58.4</td>\n",
       "      <td>17.9</td>\n",
       "    </tr>\n",
       "    <tr>\n",
       "      <th>...</th>\n",
       "      <td>...</td>\n",
       "      <td>...</td>\n",
       "      <td>...</td>\n",
       "      <td>...</td>\n",
       "    </tr>\n",
       "    <tr>\n",
       "      <th>195</th>\n",
       "      <td>38.2</td>\n",
       "      <td>3.7</td>\n",
       "      <td>13.8</td>\n",
       "      <td>7.6</td>\n",
       "    </tr>\n",
       "    <tr>\n",
       "      <th>196</th>\n",
       "      <td>94.2</td>\n",
       "      <td>4.9</td>\n",
       "      <td>8.1</td>\n",
       "      <td>14.0</td>\n",
       "    </tr>\n",
       "    <tr>\n",
       "      <th>197</th>\n",
       "      <td>177.0</td>\n",
       "      <td>9.3</td>\n",
       "      <td>6.4</td>\n",
       "      <td>14.8</td>\n",
       "    </tr>\n",
       "    <tr>\n",
       "      <th>198</th>\n",
       "      <td>283.6</td>\n",
       "      <td>42.0</td>\n",
       "      <td>66.2</td>\n",
       "      <td>25.5</td>\n",
       "    </tr>\n",
       "    <tr>\n",
       "      <th>199</th>\n",
       "      <td>232.1</td>\n",
       "      <td>8.6</td>\n",
       "      <td>8.7</td>\n",
       "      <td>18.4</td>\n",
       "    </tr>\n",
       "  </tbody>\n",
       "</table>\n",
       "<p>200 rows × 4 columns</p>\n",
       "</div>"
      ],
      "text/plain": [
       "        TV  Radio  Newspaper  Sales\n",
       "0    230.1   37.8       69.2   22.1\n",
       "1     44.5   39.3       45.1   10.4\n",
       "2     17.2   45.9       69.3   12.0\n",
       "3    151.5   41.3       58.5   16.5\n",
       "4    180.8   10.8       58.4   17.9\n",
       "..     ...    ...        ...    ...\n",
       "195   38.2    3.7       13.8    7.6\n",
       "196   94.2    4.9        8.1   14.0\n",
       "197  177.0    9.3        6.4   14.8\n",
       "198  283.6   42.0       66.2   25.5\n",
       "199  232.1    8.6        8.7   18.4\n",
       "\n",
       "[200 rows x 4 columns]"
      ]
     },
     "execution_count": 3,
     "metadata": {},
     "output_type": "execute_result"
    }
   ],
   "source": [
    "data"
   ]
  },
  {
   "cell_type": "code",
   "execution_count": 4,
   "id": "6e6f9f21",
   "metadata": {},
   "outputs": [
    {
     "name": "stdout",
     "output_type": "stream",
     "text": [
      "<class 'pandas.core.frame.DataFrame'>\n",
      "RangeIndex: 200 entries, 0 to 199\n",
      "Data columns (total 4 columns):\n",
      " #   Column     Non-Null Count  Dtype  \n",
      "---  ------     --------------  -----  \n",
      " 0   TV         200 non-null    float64\n",
      " 1   Radio      200 non-null    float64\n",
      " 2   Newspaper  200 non-null    float64\n",
      " 3   Sales      200 non-null    float64\n",
      "dtypes: float64(4)\n",
      "memory usage: 6.4 KB\n"
     ]
    }
   ],
   "source": [
    "data.info()"
   ]
  },
  {
   "cell_type": "code",
   "execution_count": 5,
   "id": "32c524cb",
   "metadata": {},
   "outputs": [
    {
     "data": {
      "text/plain": [
       "TV           0.0\n",
       "Radio        0.0\n",
       "Newspaper    0.0\n",
       "Sales        0.0\n",
       "dtype: float64"
      ]
     },
     "execution_count": 5,
     "metadata": {},
     "output_type": "execute_result"
    }
   ],
   "source": [
    "# Check null value\n",
    "data.isnull().sum()*100/data.shape[0]"
   ]
  },
  {
   "cell_type": "code",
   "execution_count": 6,
   "id": "a7892c43",
   "metadata": {},
   "outputs": [],
   "source": [
    "import seaborn as sns"
   ]
  },
  {
   "cell_type": "code",
   "execution_count": 7,
   "id": "79f35a9f",
   "metadata": {},
   "outputs": [
    {
     "data": {
      "image/png": "[encoded data removed]",
      "text/plain": [
       "<Figure size 864x288 with 3 Axes>"
      ]
     },
     "metadata": {
      "needs_background": "light"
     },
     "output_type": "display_data"
    }
   ],
   "source": [
    "sns.pairplot(data, x_vars=['TV', 'Radio', 'Newspaper'], y_vars='Sales', height=4, aspect=1, kind='scatter')\n",
    "plt.show()"
   ]
  },
  {
   "cell_type": "code",
   "execution_count": 8,
   "id": "f7360f05",
   "metadata": {},
   "outputs": [
    {
     "data": {
      "image/png": "[encoded data removed]",
      "text/plain": [
       "<Figure size 432x288 with 2 Axes>"
      ]
     },
     "metadata": {
      "needs_background": "light"
     },
     "output_type": "display_data"
    }
   ],
   "source": [
    "sns.heatmap(data.corr(), cmap=\"YlGnBu\", annot = True)\n",
    "plt.show()"
   ]
  },
  {
   "cell_type": "code",
   "execution_count": 9,
   "id": "6a13afa1",
   "metadata": {},
   "outputs": [],
   "source": [
    "X = data.iloc[:, :-1].values\n",
    "y = data.iloc[:, -1].values"
   ]
  },
  {
   "cell_type": "code",
   "execution_count": 10,
   "id": "2d2d740f",
   "metadata": {},
   "outputs": [],
   "source": [
    "from sklearn.model_selection import train_test_split\n",
    "X_train, X_test, y_train, y_test = train_test_split( X, y , test_size = 0.2, random_state = 42)"
   ]
  },
  {
   "cell_type": "code",
   "execution_count": 11,
   "id": "9b48a983",
   "metadata": {},
   "outputs": [
    {
     "data": {
      "text/plain": [
       "dtype('float64')"
      ]
     },
     "execution_count": 11,
     "metadata": {},
     "output_type": "execute_result"
    }
   ],
   "source": [
    "X_train[:5, :3]\n",
    "X_train.dtype"
   ]
  },
  {
   "cell_type": "code",
   "execution_count": 12,
   "id": "40137e77",
   "metadata": {},
   "outputs": [],
   "source": [
    "X_train = X_train.astype('float32')\n",
    "y_train = y_train.astype('float32')\n",
    "X_test = X_test.astype('float32')\n",
    "y_test = y_test.astype('float32')"
   ]
  },
  {
   "cell_type": "code",
   "execution_count": 13,
   "id": "5a7ef5dd",
   "metadata": {},
   "outputs": [],
   "source": [
    "# Hyper-parameters\n",
    "#input_size = 160\n",
    "#output_size = 160\n",
    "num_epochs = 60\n",
    "learning_rate = 0.001"
   ]
  },
  {
   "cell_type": "code",
   "execution_count": 14,
   "id": "68f5052f",
   "metadata": {},
   "outputs": [],
   "source": [
    "# data\n",
    "X_train = torch.from_numpy(X_train)\n",
    "X_test = torch.from_numpy(X_test)\n",
    "y_train = torch.from_numpy(y_train)\n",
    "y_test = torch.from_numpy(y_test)"
   ]
  },
  {
   "cell_type": "code",
   "execution_count": 15,
   "id": "f91e759a",
   "metadata": {},
   "outputs": [
    {
     "data": {
      "text/plain": [
       "tensor([[116.0000,   7.7000,  23.1000],\n",
       "        [177.0000,   9.3000,   6.4000],\n",
       "        [ 43.1000,  26.7000,  35.1000],\n",
       "        [ 62.3000,  12.6000,  18.3000],\n",
       "        [224.0000,   2.4000,  15.6000],\n",
       "        [ 38.2000,   3.7000,  13.8000],\n",
       "        [ 70.6000,  16.0000,  40.8000],\n",
       "        [147.3000,  23.9000,  19.1000],\n",
       "        [104.6000,   5.7000,  34.4000],\n",
       "        [ 76.3000,  27.5000,  16.0000],\n",
       "        [ 78.2000,  46.8000,  34.5000],\n",
       "        [168.4000,   7.1000,  12.8000],\n",
       "        [  8.7000,  48.9000,  75.0000],\n",
       "        [  7.8000,  38.9000,  50.6000],\n",
       "        [ 76.4000,   0.8000,  14.8000],\n",
       "        [129.4000,   5.7000,  31.3000],\n",
       "        [ 73.4000,  17.0000,  12.9000],\n",
       "        [289.7000,  42.3000,  51.2000],\n",
       "        [ 19.6000,  20.1000,  17.0000],\n",
       "        [197.6000,   3.5000,   5.9000],\n",
       "        [284.3000,  10.6000,   6.4000],\n",
       "        [184.9000,  21.0000,  22.0000],\n",
       "        [112.9000,  17.4000,  38.6000],\n",
       "        [ 23.8000,  35.1000,  65.9000],\n",
       "        [290.7000,   4.1000,   8.5000],\n",
       "        [ 19.4000,  16.0000,  22.3000],\n",
       "        [293.6000,  27.7000,   1.8000],\n",
       "        [ 18.7000,  12.1000,  23.4000],\n",
       "        [134.3000,   4.9000,   9.3000],\n",
       "        [ 25.6000,  39.0000,   9.3000],\n",
       "        [100.4000,   9.6000,   3.6000],\n",
       "        [ 80.2000,   0.0000,   9.2000],\n",
       "        [188.4000,  18.1000,  25.6000],\n",
       "        [177.0000,  33.4000,  38.7000],\n",
       "        [125.7000,  36.9000,  79.2000],\n",
       "        [209.6000,  20.6000,  10.7000],\n",
       "        [142.9000,  29.3000,  12.6000],\n",
       "        [184.9000,  43.9000,   1.7000],\n",
       "        [222.4000,   4.3000,  49.8000],\n",
       "        [241.7000,  38.0000,  23.2000],\n",
       "        [ 17.2000,  45.9000,  69.3000],\n",
       "        [120.5000,  28.5000,  14.2000],\n",
       "        [ 89.7000,   9.9000,  35.7000],\n",
       "        [191.1000,  28.7000,  18.2000],\n",
       "        [ 75.5000,  10.8000,   6.0000],\n",
       "        [193.2000,  18.4000,  65.7000],\n",
       "        [ 85.7000,  35.8000,  49.3000],\n",
       "        [266.9000,  43.8000,   5.0000],\n",
       "        [ 39.5000,  41.1000,   5.8000],\n",
       "        [261.3000,  42.7000,  54.7000],\n",
       "        [ 13.2000,  15.9000,  49.6000],\n",
       "        [193.7000,  35.4000,  75.6000],\n",
       "        [296.4000,  36.3000, 100.9000],\n",
       "        [265.6000,  20.0000,   0.3000],\n",
       "        [214.7000,  24.0000,   4.0000],\n",
       "        [149.7000,  35.6000,   6.0000],\n",
       "        [131.7000,  18.4000,  34.6000],\n",
       "        [ 57.5000,  32.8000,  23.5000],\n",
       "        [240.1000,  16.7000,  22.9000],\n",
       "        [141.3000,  26.8000,  46.2000],\n",
       "        [180.8000,  10.8000,  58.4000],\n",
       "        [ 97.2000,   1.5000,  30.0000],\n",
       "        [220.5000,  33.2000,  37.9000],\n",
       "        [140.3000,   1.9000,   9.0000],\n",
       "        [255.4000,  26.9000,   5.5000],\n",
       "        [ 96.2000,  14.8000,  38.9000],\n",
       "        [ 66.1000,   5.8000,  24.2000],\n",
       "        [239.3000,  15.5000,  27.3000],\n",
       "        [175.7000,  15.4000,   2.4000],\n",
       "        [240.1000,   7.3000,   8.7000],\n",
       "        [ 17.9000,  37.6000,  21.6000],\n",
       "        [230.1000,  37.8000,  69.2000],\n",
       "        [283.6000,  42.0000,  66.2000],\n",
       "        [171.3000,  39.7000,  37.7000],\n",
       "        [199.1000,  30.6000,  38.7000],\n",
       "        [123.1000,  34.6000,  12.4000],\n",
       "        [131.1000,  42.8000,  28.9000],\n",
       "        [ 25.1000,  25.7000,  43.3000],\n",
       "        [163.5000,  36.8000,   7.4000],\n",
       "        [248.8000,  27.1000,  22.9000],\n",
       "        [202.5000,  22.3000,  31.6000],\n",
       "        [ 13.1000,   0.4000,  25.6000],\n",
       "        [  4.1000,  11.6000,   5.7000],\n",
       "        [ 93.9000,  43.5000,  50.5000],\n",
       "        [262.9000,   3.5000,  19.5000],\n",
       "        [228.3000,  16.9000,  26.2000],\n",
       "        [253.8000,  21.3000,  30.0000],\n",
       "        [243.2000,  49.0000,  44.3000],\n",
       "        [239.8000,   4.1000,  36.9000],\n",
       "        [228.0000,  37.7000,  32.0000],\n",
       "        [215.4000,  23.6000,  57.6000],\n",
       "        [239.9000,  41.5000,  18.5000],\n",
       "        [107.4000,  14.0000,  10.9000],\n",
       "        [187.8000,  21.1000,   9.5000],\n",
       "        [206.9000,   8.4000,  26.4000],\n",
       "        [ 43.0000,  25.9000,  20.5000],\n",
       "        [151.5000,  41.3000,  58.5000],\n",
       "        [137.9000,  46.4000,  59.0000],\n",
       "        [182.6000,  46.2000,  58.7000],\n",
       "        [219.8000,  33.5000,  45.1000],\n",
       "        [156.6000,   2.6000,   8.3000],\n",
       "        [276.7000,   2.3000,  23.7000],\n",
       "        [205.0000,  45.1000,  19.6000],\n",
       "        [ 66.9000,  11.7000,  36.8000],\n",
       "        [ 76.4000,  26.7000,  22.3000],\n",
       "        [ 95.7000,   1.4000,   7.4000],\n",
       "        [120.2000,  19.6000,  11.6000],\n",
       "        [225.8000,   8.2000,  56.5000],\n",
       "        [ 28.6000,   1.5000,  33.0000],\n",
       "        [ 68.4000,  44.5000,  35.6000],\n",
       "        [248.4000,  30.2000,  20.3000],\n",
       "        [218.5000,   5.4000,  27.4000],\n",
       "        [109.8000,  47.8000,  51.4000],\n",
       "        [  8.6000,   2.1000,   1.0000],\n",
       "        [ 97.5000,   7.6000,   7.2000],\n",
       "        [210.7000,  29.5000,   9.3000],\n",
       "        [164.5000,  20.9000,  47.4000],\n",
       "        [265.2000,   2.9000,  43.0000],\n",
       "        [281.4000,  39.6000,  55.8000],\n",
       "        [ 26.8000,  33.0000,  19.3000],\n",
       "        [276.9000,  48.9000,  41.8000],\n",
       "        [ 36.9000,  38.6000,  65.6000],\n",
       "        [206.8000,   5.2000,  19.4000],\n",
       "        [287.6000,  43.0000,  71.8000],\n",
       "        [102.7000,  29.6000,   8.4000],\n",
       "        [262.7000,  28.8000,  15.9000],\n",
       "        [ 90.4000,   0.3000,  23.2000],\n",
       "        [199.8000,   3.1000,  34.6000],\n",
       "        [ 94.2000,   4.9000,   8.1000],\n",
       "        [210.8000,  49.6000,  37.7000],\n",
       "        [227.2000,  15.8000,  49.9000],\n",
       "        [ 88.3000,  25.5000,  73.4000],\n",
       "        [237.4000,   5.1000,  23.5000],\n",
       "        [136.2000,  19.2000,  16.6000],\n",
       "        [172.5000,  18.1000,  30.7000],\n",
       "        [ 17.2000,   4.1000,  31.6000],\n",
       "        [ 59.6000,  12.0000,  43.1000],\n",
       "        [ 74.7000,  49.4000,  45.7000],\n",
       "        [149.8000,   1.3000,  24.3000],\n",
       "        [166.8000,  42.0000,   3.6000],\n",
       "        [ 44.5000,  39.3000,  45.1000],\n",
       "        [216.4000,  41.7000,  39.6000],\n",
       "        [ 44.7000,  25.8000,  20.6000],\n",
       "        [  0.7000,  39.6000,   8.7000],\n",
       "        [121.0000,   8.4000,  48.7000],\n",
       "        [187.9000,  17.2000,  17.9000],\n",
       "        [135.2000,  41.7000,  45.9000],\n",
       "        [139.2000,  14.3000,  25.6000],\n",
       "        [110.7000,  40.6000,  63.2000],\n",
       "        [213.4000,  24.6000,  13.1000],\n",
       "        [ 18.8000,  21.7000,  50.4000],\n",
       "        [232.1000,   8.6000,   8.7000],\n",
       "        [218.4000,  27.7000,  53.4000],\n",
       "        [286.0000,  13.9000,   3.7000],\n",
       "        [109.8000,  14.3000,  31.7000],\n",
       "        [ 25.0000,  11.0000,  29.7000],\n",
       "        [204.1000,  32.9000,  46.0000],\n",
       "        [217.7000,  33.5000,  59.0000],\n",
       "        [165.6000,  10.0000,  17.6000],\n",
       "        [280.2000,  10.1000,  21.4000]])"
      ]
     },
     "execution_count": 15,
     "metadata": {},
     "output_type": "execute_result"
    }
   ],
   "source": [
    "X_train"
   ]
  },
  {
   "cell_type": "code",
   "execution_count": 16,
   "id": "9a4b0db4",
   "metadata": {},
   "outputs": [],
   "source": [
    "from torch.utils.data import TensorDataset"
   ]
  },
  {
   "cell_type": "code",
   "execution_count": 17,
   "id": "749bc832",
   "metadata": {},
   "outputs": [],
   "source": [
    "train_ds = TensorDataset(X_train, y_train)\n",
    "train_ds[0:3]\n",
    "\n",
    "#Data loader\n",
    "from torch.utils.data import DataLoader\n",
    "# Define data loader\n",
    "batch_size = 5\n",
    "train_dl = DataLoader(train_ds, batch_size, shuffle=True)"
   ]
  },
  {
   "cell_type": "code",
   "execution_count": 29,
   "id": "a638c911",
   "metadata": {},
   "outputs": [
    {
     "name": "stdout",
     "output_type": "stream",
     "text": [
      "Parameter containing:\n",
      "tensor([[ 0.3894,  0.3805, -0.2006]], requires_grad=True)\n",
      "Parameter containing:\n",
      "tensor([-0.1379], requires_grad=True)\n",
      "==================================================\n",
      "Epoch [10/100], Loss: 34.3108\n",
      "Epoch [20/100], Loss: 73.8559\n",
      "Epoch [30/100], Loss: 52.4976\n",
      "Epoch [40/100], Loss: 67.9922\n",
      "Epoch [50/100], Loss: 35.7669\n",
      "Epoch [60/100], Loss: 28.4630\n"
     ]
    },
    {
     "name": "stderr",
     "output_type": "stream",
     "text": [
      "/opt/homebrew/Caskroom/miniforge/base/envs/pytorch/lib/python3.8/site-packages/torch/nn/modules/loss.py:528: UserWarning: Using a target size (torch.Size([5])) that is different to the input size (torch.Size([5, 1])). This will likely lead to incorrect results due to broadcasting. Please ensure they have the same size.\n",
      "  return F.mse_loss(input, target, reduction=self.reduction)\n"
     ]
    },
    {
     "name": "stdout",
     "output_type": "stream",
     "text": [
      "Epoch [70/100], Loss: 16.8453\n",
      "Epoch [80/100], Loss: 37.6268\n",
      "Epoch [90/100], Loss: 27.1215\n",
      "Epoch [100/100], Loss: 24.0163\n"
     ]
    }
   ],
   "source": [
    "# Define linear model\n",
    "model = nn.Linear(3, 1)\n",
    "print(model.weight)\n",
    "print(model.bias)\n",
    "print(\"=\"*50)\n",
    "\n",
    "# Parameters\n",
    "list(model.parameters())\n",
    "# Define Loss\n",
    "import torch.nn.functional as F\n",
    "loss_fn = F.mse_loss\n",
    "# Define optimizer\n",
    "opt = torch.optim.SGD(model.parameters(), lr=1e-5)\n",
    "criterion = nn.MSELoss()\n",
    "optimizer = torch.optim.SGD(model.parameters(), lr=1e-5)\n",
    "\n",
    "#Parameters\n",
    "num_epochs = 100\n",
    "model = model\n",
    "loss_fn = criterion\n",
    "opt = optimizer\n",
    "train_dl = train_dl\n",
    "train_loss = []\n",
    "for epoch in range(num_epochs):\n",
    "    # Train with batches of data\n",
    "    for xb,yb in train_dl:\n",
    "        # 1. Generate predictions\n",
    "        pred = model(xb)\n",
    "            \n",
    "        # 2. Calculate loss\n",
    "        loss = loss_fn(pred, yb)\n",
    "            \n",
    "        # 3. Compute gradients\n",
    "        loss.backward()\n",
    "            \n",
    "        # 4. Update parameters using gradients\n",
    "        opt.step()\n",
    "            \n",
    "        # 5. Reset the gradients to zero\n",
    "        opt.zero_grad()\n",
    "        #train_loss.append(loss.item())\n",
    "    # Print the progress\n",
    "    if (epoch+1) % 10 == 0:\n",
    "        print('Epoch [{}/{}], Loss: {:.4f}'.format(epoch+1, num_epochs, loss.item()))\n",
    "        train_loss.append(loss.item())"
   ]
  },
  {
   "cell_type": "code",
   "execution_count": 49,
   "id": "7d4ff04b",
   "metadata": {},
   "outputs": [
    {
     "data": {
      "text/html": [
       "<div>\n",
       "<style scoped>\n",
       "    .dataframe tbody tr th:only-of-type {\n",
       "        vertical-align: middle;\n",
       "    }\n",
       "\n",
       "    .dataframe tbody tr th {\n",
       "        vertical-align: top;\n",
       "    }\n",
       "\n",
       "    .dataframe thead th {\n",
       "        text-align: right;\n",
       "    }\n",
       "</style>\n",
       "<table border=\"1\" class=\"dataframe\">\n",
       "  <thead>\n",
       "    <tr style=\"text-align: right;\">\n",
       "      <th></th>\n",
       "      <th>Actual Observation</th>\n",
       "      <th>Predicted Sales</th>\n",
       "    </tr>\n",
       "  </thead>\n",
       "  <tbody>\n",
       "    <tr>\n",
       "      <th>0</th>\n",
       "      <td>16.900000</td>\n",
       "      <td>18.626192</td>\n",
       "    </tr>\n",
       "    <tr>\n",
       "      <th>1</th>\n",
       "      <td>22.400000</td>\n",
       "      <td>22.795147</td>\n",
       "    </tr>\n",
       "    <tr>\n",
       "      <th>2</th>\n",
       "      <td>21.400000</td>\n",
       "      <td>24.439356</td>\n",
       "    </tr>\n",
       "    <tr>\n",
       "      <th>3</th>\n",
       "      <td>7.300000</td>\n",
       "      <td>10.278027</td>\n",
       "    </tr>\n",
       "    <tr>\n",
       "      <th>4</th>\n",
       "      <td>24.700001</td>\n",
       "      <td>19.774391</td>\n",
       "    </tr>\n",
       "    <tr>\n",
       "      <th>5</th>\n",
       "      <td>12.600000</td>\n",
       "      <td>14.212005</td>\n",
       "    </tr>\n",
       "    <tr>\n",
       "      <th>6</th>\n",
       "      <td>22.299999</td>\n",
       "      <td>21.043901</td>\n",
       "    </tr>\n",
       "    <tr>\n",
       "      <th>7</th>\n",
       "      <td>8.400000</td>\n",
       "      <td>6.177844</td>\n",
       "    </tr>\n",
       "    <tr>\n",
       "      <th>8</th>\n",
       "      <td>16.500000</td>\n",
       "      <td>14.049383</td>\n",
       "    </tr>\n",
       "    <tr>\n",
       "      <th>9</th>\n",
       "      <td>16.100000</td>\n",
       "      <td>15.953973</td>\n",
       "    </tr>\n",
       "    <tr>\n",
       "      <th>10</th>\n",
       "      <td>11.000000</td>\n",
       "      <td>5.578297</td>\n",
       "    </tr>\n",
       "    <tr>\n",
       "      <th>11</th>\n",
       "      <td>8.700000</td>\n",
       "      <td>6.693058</td>\n",
       "    </tr>\n",
       "    <tr>\n",
       "      <th>12</th>\n",
       "      <td>16.900000</td>\n",
       "      <td>21.352848</td>\n",
       "    </tr>\n",
       "    <tr>\n",
       "      <th>13</th>\n",
       "      <td>5.300000</td>\n",
       "      <td>5.579729</td>\n",
       "    </tr>\n",
       "    <tr>\n",
       "      <th>14</th>\n",
       "      <td>10.300000</td>\n",
       "      <td>10.500208</td>\n",
       "    </tr>\n",
       "    <tr>\n",
       "      <th>15</th>\n",
       "      <td>16.700001</td>\n",
       "      <td>13.845644</td>\n",
       "    </tr>\n",
       "    <tr>\n",
       "      <th>16</th>\n",
       "      <td>5.500000</td>\n",
       "      <td>8.378119</td>\n",
       "    </tr>\n",
       "    <tr>\n",
       "      <th>17</th>\n",
       "      <td>16.600000</td>\n",
       "      <td>15.722378</td>\n",
       "    </tr>\n",
       "    <tr>\n",
       "      <th>18</th>\n",
       "      <td>11.300000</td>\n",
       "      <td>10.176545</td>\n",
       "    </tr>\n",
       "    <tr>\n",
       "      <th>19</th>\n",
       "      <td>18.900000</td>\n",
       "      <td>18.259697</td>\n",
       "    </tr>\n",
       "    <tr>\n",
       "      <th>20</th>\n",
       "      <td>19.700001</td>\n",
       "      <td>24.377312</td>\n",
       "    </tr>\n",
       "    <tr>\n",
       "      <th>21</th>\n",
       "      <td>12.500000</td>\n",
       "      <td>19.713030</td>\n",
       "    </tr>\n",
       "    <tr>\n",
       "      <th>22</th>\n",
       "      <td>10.900000</td>\n",
       "      <td>9.163015</td>\n",
       "    </tr>\n",
       "    <tr>\n",
       "      <th>23</th>\n",
       "      <td>22.200001</td>\n",
       "      <td>26.012741</td>\n",
       "    </tr>\n",
       "    <tr>\n",
       "      <th>24</th>\n",
       "      <td>11.300000</td>\n",
       "      <td>5.273948</td>\n",
       "    </tr>\n",
       "    <tr>\n",
       "      <th>25</th>\n",
       "      <td>8.100000</td>\n",
       "      <td>5.227144</td>\n",
       "    </tr>\n",
       "    <tr>\n",
       "      <th>26</th>\n",
       "      <td>21.700001</td>\n",
       "      <td>21.337631</td>\n",
       "    </tr>\n",
       "    <tr>\n",
       "      <th>27</th>\n",
       "      <td>13.400000</td>\n",
       "      <td>10.809819</td>\n",
       "    </tr>\n",
       "    <tr>\n",
       "      <th>28</th>\n",
       "      <td>10.600000</td>\n",
       "      <td>8.967598</td>\n",
       "    </tr>\n",
       "    <tr>\n",
       "      <th>29</th>\n",
       "      <td>5.700000</td>\n",
       "      <td>4.671124</td>\n",
       "    </tr>\n",
       "    <tr>\n",
       "      <th>30</th>\n",
       "      <td>15.600000</td>\n",
       "      <td>13.424544</td>\n",
       "    </tr>\n",
       "    <tr>\n",
       "      <th>31</th>\n",
       "      <td>11.300000</td>\n",
       "      <td>8.554013</td>\n",
       "    </tr>\n",
       "    <tr>\n",
       "      <th>32</th>\n",
       "      <td>23.700001</td>\n",
       "      <td>23.898146</td>\n",
       "    </tr>\n",
       "    <tr>\n",
       "      <th>33</th>\n",
       "      <td>8.700000</td>\n",
       "      <td>15.662472</td>\n",
       "    </tr>\n",
       "    <tr>\n",
       "      <th>34</th>\n",
       "      <td>16.100000</td>\n",
       "      <td>21.054348</td>\n",
       "    </tr>\n",
       "    <tr>\n",
       "      <th>35</th>\n",
       "      <td>20.700001</td>\n",
       "      <td>18.784628</td>\n",
       "    </tr>\n",
       "    <tr>\n",
       "      <th>36</th>\n",
       "      <td>11.600000</td>\n",
       "      <td>10.413573</td>\n",
       "    </tr>\n",
       "    <tr>\n",
       "      <th>37</th>\n",
       "      <td>20.799999</td>\n",
       "      <td>24.987738</td>\n",
       "    </tr>\n",
       "    <tr>\n",
       "      <th>38</th>\n",
       "      <td>11.900000</td>\n",
       "      <td>9.167861</td>\n",
       "    </tr>\n",
       "    <tr>\n",
       "      <th>39</th>\n",
       "      <td>6.900000</td>\n",
       "      <td>3.658825</td>\n",
       "    </tr>\n",
       "  </tbody>\n",
       "</table>\n",
       "</div>"
      ],
      "text/plain": [
       "    Actual Observation  Predicted Sales\n",
       "0            16.900000        18.626192\n",
       "1            22.400000        22.795147\n",
       "2            21.400000        24.439356\n",
       "3             7.300000        10.278027\n",
       "4            24.700001        19.774391\n",
       "5            12.600000        14.212005\n",
       "6            22.299999        21.043901\n",
       "7             8.400000         6.177844\n",
       "8            16.500000        14.049383\n",
       "9            16.100000        15.953973\n",
       "10           11.000000         5.578297\n",
       "11            8.700000         6.693058\n",
       "12           16.900000        21.352848\n",
       "13            5.300000         5.579729\n",
       "14           10.300000        10.500208\n",
       "15           16.700001        13.845644\n",
       "16            5.500000         8.378119\n",
       "17           16.600000        15.722378\n",
       "18           11.300000        10.176545\n",
       "19           18.900000        18.259697\n",
       "20           19.700001        24.377312\n",
       "21           12.500000        19.713030\n",
       "22           10.900000         9.163015\n",
       "23           22.200001        26.012741\n",
       "24           11.300000         5.273948\n",
       "25            8.100000         5.227144\n",
       "26           21.700001        21.337631\n",
       "27           13.400000        10.809819\n",
       "28           10.600000         8.967598\n",
       "29            5.700000         4.671124\n",
       "30           15.600000        13.424544\n",
       "31           11.300000         8.554013\n",
       "32           23.700001        23.898146\n",
       "33            8.700000        15.662472\n",
       "34           16.100000        21.054348\n",
       "35           20.700001        18.784628\n",
       "36           11.600000        10.413573\n",
       "37           20.799999        24.987738\n",
       "38           11.900000         9.167861\n",
       "39            6.900000         3.658825"
      ]
     },
     "execution_count": 49,
     "metadata": {},
     "output_type": "execute_result"
    }
   ],
   "source": [
    "#Predicting for X_test\n",
    "y_pred_test = model(X_test)\n",
    "#Converting predictions from tensor objects into a list\n",
    "y_pred_test = [y_pred_test[x].item() for x in range(len(y_pred_test))]\n",
    "# Comparing Actual and predicted values\n",
    "df = {}\n",
    "df['Actual Observation'] = y_test\n",
    "df['Predicted Sales'] = y_pred_test\n",
    "df = pd.DataFrame(df)\n",
    "df"
   ]
  },
  {
   "cell_type": "code",
   "execution_count": 31,
   "id": "cc5c07e7",
   "metadata": {},
   "outputs": [
    {
     "data": {
      "text/plain": [
       "3.183526652459134"
      ]
     },
     "execution_count": 31,
     "metadata": {},
     "output_type": "execute_result"
    }
   ],
   "source": [
    "from sklearn.metrics import mean_squared_error\n",
    "np.sqrt(mean_squared_error(y_test, y_pred_test))"
   ]
  },
  {
   "cell_type": "code",
   "execution_count": 47,
   "id": "8ddcd960",
   "metadata": {},
   "outputs": [
    {
     "ename": "AttributeError",
     "evalue": "'list' object has no attribute 'size'",
     "output_type": "error",
     "traceback": [
      "\u001b[0;31m---------------------------------------------------------------------------\u001b[0m",
      "\u001b[0;31mAttributeError\u001b[0m                            Traceback (most recent call last)",
      "\u001b[0;32m/var/folders/64/cq512dsj4rg415xmb2zyrmpc0000gn/T/ipykernel_15347/4288862042.py\u001b[0m in \u001b[0;36m<module>\u001b[0;34m\u001b[0m\n\u001b[1;32m      1\u001b[0m \u001b[0mtest_loss\u001b[0m \u001b[0;34m=\u001b[0m \u001b[0mnn\u001b[0m\u001b[0;34m.\u001b[0m\u001b[0mMSELoss\u001b[0m\u001b[0;34m(\u001b[0m\u001b[0;34m)\u001b[0m\u001b[0;34m\u001b[0m\u001b[0;34m\u001b[0m\u001b[0m\n\u001b[0;32m----> 2\u001b[0;31m \u001b[0mtest_loss\u001b[0m\u001b[0;34m(\u001b[0m\u001b[0my_test\u001b[0m\u001b[0;34m,\u001b[0m \u001b[0my_pred_test\u001b[0m\u001b[0;34m)\u001b[0m\u001b[0;34m\u001b[0m\u001b[0;34m\u001b[0m\u001b[0m\n\u001b[0m",
      "\u001b[0;32m/opt/homebrew/Caskroom/miniforge/base/envs/pytorch/lib/python3.8/site-packages/torch/nn/modules/module.py\u001b[0m in \u001b[0;36m_call_impl\u001b[0;34m(self, *input, **kwargs)\u001b[0m\n\u001b[1;32m   1049\u001b[0m         if not (self._backward_hooks or self._forward_hooks or self._forward_pre_hooks or _global_backward_hooks\n\u001b[1;32m   1050\u001b[0m                 or _global_forward_hooks or _global_forward_pre_hooks):\n\u001b[0;32m-> 1051\u001b[0;31m             \u001b[0;32mreturn\u001b[0m \u001b[0mforward_call\u001b[0m\u001b[0;34m(\u001b[0m\u001b[0;34m*\u001b[0m\u001b[0minput\u001b[0m\u001b[0;34m,\u001b[0m \u001b[0;34m**\u001b[0m\u001b[0mkwargs\u001b[0m\u001b[0;34m)\u001b[0m\u001b[0;34m\u001b[0m\u001b[0;34m\u001b[0m\u001b[0m\n\u001b[0m\u001b[1;32m   1052\u001b[0m         \u001b[0;31m# Do not call functions when jit is used\u001b[0m\u001b[0;34m\u001b[0m\u001b[0;34m\u001b[0m\u001b[0;34m\u001b[0m\u001b[0m\n\u001b[1;32m   1053\u001b[0m         \u001b[0mfull_backward_hooks\u001b[0m\u001b[0;34m,\u001b[0m \u001b[0mnon_full_backward_hooks\u001b[0m \u001b[0;34m=\u001b[0m \u001b[0;34m[\u001b[0m\u001b[0;34m]\u001b[0m\u001b[0;34m,\u001b[0m \u001b[0;34m[\u001b[0m\u001b[0;34m]\u001b[0m\u001b[0;34m\u001b[0m\u001b[0;34m\u001b[0m\u001b[0m\n",
      "\u001b[0;32m/opt/homebrew/Caskroom/miniforge/base/envs/pytorch/lib/python3.8/site-packages/torch/nn/modules/loss.py\u001b[0m in \u001b[0;36mforward\u001b[0;34m(self, input, target)\u001b[0m\n\u001b[1;32m    526\u001b[0m \u001b[0;34m\u001b[0m\u001b[0m\n\u001b[1;32m    527\u001b[0m     \u001b[0;32mdef\u001b[0m \u001b[0mforward\u001b[0m\u001b[0;34m(\u001b[0m\u001b[0mself\u001b[0m\u001b[0;34m,\u001b[0m \u001b[0minput\u001b[0m\u001b[0;34m:\u001b[0m \u001b[0mTensor\u001b[0m\u001b[0;34m,\u001b[0m \u001b[0mtarget\u001b[0m\u001b[0;34m:\u001b[0m \u001b[0mTensor\u001b[0m\u001b[0;34m)\u001b[0m \u001b[0;34m->\u001b[0m \u001b[0mTensor\u001b[0m\u001b[0;34m:\u001b[0m\u001b[0;34m\u001b[0m\u001b[0;34m\u001b[0m\u001b[0m\n\u001b[0;32m--> 528\u001b[0;31m         \u001b[0;32mreturn\u001b[0m \u001b[0mF\u001b[0m\u001b[0;34m.\u001b[0m\u001b[0mmse_loss\u001b[0m\u001b[0;34m(\u001b[0m\u001b[0minput\u001b[0m\u001b[0;34m,\u001b[0m \u001b[0mtarget\u001b[0m\u001b[0;34m,\u001b[0m \u001b[0mreduction\u001b[0m\u001b[0;34m=\u001b[0m\u001b[0mself\u001b[0m\u001b[0;34m.\u001b[0m\u001b[0mreduction\u001b[0m\u001b[0;34m)\u001b[0m\u001b[0;34m\u001b[0m\u001b[0;34m\u001b[0m\u001b[0m\n\u001b[0m\u001b[1;32m    529\u001b[0m \u001b[0;34m\u001b[0m\u001b[0m\n\u001b[1;32m    530\u001b[0m \u001b[0;34m\u001b[0m\u001b[0m\n",
      "\u001b[0;32m/opt/homebrew/Caskroom/miniforge/base/envs/pytorch/lib/python3.8/site-packages/torch/nn/functional.py\u001b[0m in \u001b[0;36mmse_loss\u001b[0;34m(input, target, size_average, reduce, reduction)\u001b[0m\n\u001b[1;32m   3077\u001b[0m             \u001b[0mmse_loss\u001b[0m\u001b[0;34m,\u001b[0m \u001b[0;34m(\u001b[0m\u001b[0minput\u001b[0m\u001b[0;34m,\u001b[0m \u001b[0mtarget\u001b[0m\u001b[0;34m)\u001b[0m\u001b[0;34m,\u001b[0m \u001b[0minput\u001b[0m\u001b[0;34m,\u001b[0m \u001b[0mtarget\u001b[0m\u001b[0;34m,\u001b[0m \u001b[0msize_average\u001b[0m\u001b[0;34m=\u001b[0m\u001b[0msize_average\u001b[0m\u001b[0;34m,\u001b[0m \u001b[0mreduce\u001b[0m\u001b[0;34m=\u001b[0m\u001b[0mreduce\u001b[0m\u001b[0;34m,\u001b[0m \u001b[0mreduction\u001b[0m\u001b[0;34m=\u001b[0m\u001b[0mreduction\u001b[0m\u001b[0;34m\u001b[0m\u001b[0;34m\u001b[0m\u001b[0m\n\u001b[1;32m   3078\u001b[0m         )\n\u001b[0;32m-> 3079\u001b[0;31m     \u001b[0;32mif\u001b[0m \u001b[0;32mnot\u001b[0m \u001b[0;34m(\u001b[0m\u001b[0mtarget\u001b[0m\u001b[0;34m.\u001b[0m\u001b[0msize\u001b[0m\u001b[0;34m(\u001b[0m\u001b[0;34m)\u001b[0m \u001b[0;34m==\u001b[0m \u001b[0minput\u001b[0m\u001b[0;34m.\u001b[0m\u001b[0msize\u001b[0m\u001b[0;34m(\u001b[0m\u001b[0;34m)\u001b[0m\u001b[0;34m)\u001b[0m\u001b[0;34m:\u001b[0m\u001b[0;34m\u001b[0m\u001b[0;34m\u001b[0m\u001b[0m\n\u001b[0m\u001b[1;32m   3080\u001b[0m         warnings.warn(\n\u001b[1;32m   3081\u001b[0m             \u001b[0;34m\"Using a target size ({}) that is different to the input size ({}). \"\u001b[0m\u001b[0;34m\u001b[0m\u001b[0;34m\u001b[0m\u001b[0m\n",
      "\u001b[0;31mAttributeError\u001b[0m: 'list' object has no attribute 'size'"
     ]
    }
   ],
   "source": [
    "test_loss = nn.MSELoss()\n",
    "test_loss(y_test, y_pred_test)\n",
    "test_loss"
   ]
  },
  {
   "cell_type": "code",
   "execution_count": 40,
   "id": "1c2e2670",
   "metadata": {},
   "outputs": [
    {
     "data": {
      "image/png": "[encoded data removed]",
      "text/plain": [
       "<Figure size 432x288 with 1 Axes>"
      ]
     },
     "metadata": {
      "needs_background": "light"
     },
     "output_type": "display_data"
    }
   ],
   "source": [
    "epochs = [i for i in range(0,100, 10)]\n",
    "plt.plot(epochs,train_loss)\n",
    "plt.xlabel('Epoch')\n",
    "plt.ylabel('Training Loss')\n",
    "plt.show()"
   ]
  },
  {
   "cell_type": "code",
   "execution_count": 41,
   "id": "68af7a1b",
   "metadata": {},
   "outputs": [
    {
     "data": {
      "image/png": "[encoded data removed]",
      "text/plain": [
       "<Figure size 432x288 with 1 Axes>"
      ]
     },
     "metadata": {
      "needs_background": "light"
     },
     "output_type": "display_data"
    }
   ],
   "source": [
    "plt.plot(X_train, y_train, 'ro', label='Original data')\n",
    "plt.plot(X_test, y_pred_test, label='Fitted line')\n",
    "plt.legend()\n",
    "plt.show()"
   ]
  },
  {
   "cell_type": "code",
   "execution_count": null,
   "id": "c3d342bf",
   "metadata": {},
   "outputs": [],
   "source": []
  }
 ],
 "metadata": {
  "kernelspec": {
   "display_name": "pytorch",
   "language": "python",
   "name": "pytorch"
  },
  "language_info": {
   "codemirror_mode": {
    "name": "ipython",
    "version": 3
   },
   "file_extension": ".py",
   "mimetype": "text/x-python",
   "name": "python",
   "nbconvert_exporter": "python",
   "pygments_lexer": "ipython3",
   "version": "3.8.12"
  }
 },
 "nbformat": 4,
 "nbformat_minor": 5
}
