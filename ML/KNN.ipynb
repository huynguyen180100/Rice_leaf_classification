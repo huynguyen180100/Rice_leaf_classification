{
 "cells": [
  {
   "cell_type": "markdown",
   "id": "9f49a4f1",
   "metadata": {},
   "source": [
    "## Import module"
   ]
  },
  {
   "cell_type": "code",
   "execution_count": 4,
   "id": "a98c3b2c",
   "metadata": {},
   "outputs": [],
   "source": [
    "import torch\n",
    "import torch.nn as nn\n",
    "import torch.nn.functional as F\n",
    "from torch.utils.data import Dataset\n",
    "from torchvision import datasets, transforms"
   ]
  },
  {
   "cell_type": "markdown",
   "id": "91599dff",
   "metadata": {},
   "source": [
    "## Build KNearestNeighbor"
   ]
  },
  {
   "cell_type": "code",
   "execution_count": 3,
   "id": "be5be9c2",
   "metadata": {},
   "outputs": [],
   "source": [
    "class KNearestNeighbor:\n",
    "    def __init__(self):\n",
    "        pass\n",
    "    def train(self, train_data):\n",
    "        if isinstance(train_data, Dataset):\n",
    "            X_train = []\n",
    "            y_train = []\n",
    "            for i in range(len(train_data)):\n",
    "                X, y = train_data[0]\n",
    "                X_train.append(X)\n",
    "                y_train.append(y)\n",
    "            self.X_train = torch.stack(X_train, dim=0)\n",
    "            self.y_train = torch.tensor(y_train, dtype=torch.int8)\n",
    "        else:\n",
    "            self.X_train, self.y_train = train_data\n",
    "    def predict(self, X, k):\n",
    "        num_test = X.shape[0]\n",
    "        y_pred = torch.zeros(num_test, dtype=self.y_train.dtype)\n",
    "        for i in range(num_test):\n",
    "            similarity = torch.sum(torch.abs(self.X_train - X[i, :]), axis=1)\n",
    "            distancees, indices = similarity.topk(k, largest=True, sorted=True)\n",
    "            retrieved_neighbors = torch.gather(self.y_train, 0, indices)\n",
    "            y_pred[i] = torch.mode(retrieved_neighbors, 0)[0]\n",
    "        return y_pred"
   ]
  }
 ],
 "metadata": {
  "kernelspec": {
   "display_name": "pytorch",
   "language": "python",
   "name": "pytorch"
  },
  "language_info": {
   "codemirror_mode": {
    "name": "ipython",
    "version": 3
   },
   "file_extension": ".py",
   "mimetype": "text/x-python",
   "name": "python",
   "nbconvert_exporter": "python",
   "pygments_lexer": "ipython3",
   "version": "3.8.12"
  }
 },
 "nbformat": 4,
 "nbformat_minor": 5
}
