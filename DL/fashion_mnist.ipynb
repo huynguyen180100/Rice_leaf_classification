{
 "cells": [
  {
   "cell_type": "code",
   "execution_count": 1,
   "id": "b6488445",
   "metadata": {},
   "outputs": [],
   "source": [
    "import os \n",
    "import torch\n",
    "import torch.nn as nn\n",
    "import torchvision\n",
    "import torchvision.transforms as transforms"
   ]
  },
  {
   "cell_type": "code",
   "execution_count": 19,
   "id": "af99c9f9",
   "metadata": {},
   "outputs": [
    {
     "name": "stdout",
     "output_type": "stream",
     "text": [
      "Using cpu device\n"
     ]
    }
   ],
   "source": [
    "# Device configuration\n",
    "device = torch.device('cuda' if torch.cuda.is_available() else 'cpu')\n",
    "print('Using {} device'.format(device))\n",
    "\n",
    "# Hyper-parameters \n",
    "input_size = 784\n",
    "hidden_size = 500\n",
    "num_classes = 10\n",
    "num_epochs = 8\n",
    "batch_size = 100\n",
    "learning_rate = 0.001"
   ]
  },
  {
   "cell_type": "code",
   "execution_count": 20,
   "id": "686be3e3",
   "metadata": {},
   "outputs": [],
   "source": [
    "# Prepare datasets\n",
    "train_dataset = torchvision.datasets.FashionMNIST(root='data',\n",
    "                                                 train=True,\n",
    "                                                 transform=transforms.ToTensor(),\n",
    "                                                 download=True)\n",
    "test_dataset = torchvision.datasets.FashionMNIST(root=\"data\",\n",
    "                                                train=False,\n",
    "                                                transform=transforms.ToTensor())\n",
    "\n",
    "# Dataloader\n",
    "train_loader = torch.utils.data.DataLoader(train_dataset,\n",
    "                                          batch_size=batch_size,\n",
    "                                          shuffle=True)\n",
    "test_loader = torch.utils.data.DataLoader(test_dataset,\n",
    "                                          batch_size=batch_size,\n",
    "                                          shuffle=False)"
   ]
  },
  {
   "cell_type": "code",
   "execution_count": 4,
   "id": "39e3ae1a",
   "metadata": {},
   "outputs": [],
   "source": [
    "import matplotlib.pyplot as plt"
   ]
  },
  {
   "cell_type": "code",
   "execution_count": 6,
   "id": "2374a3ed",
   "metadata": {},
   "outputs": [
    {
     "data": {
      "image/png": "[encoded data removed]",
      "text/plain": [
       "<Figure size 576x576 with 9 Axes>"
      ]
     },
     "metadata": {
      "needs_background": "light"
     },
     "output_type": "display_data"
    }
   ],
   "source": [
    "labels_map = {\n",
    "    0: \"T-Shirt\",\n",
    "    1: \"Trouser\",\n",
    "    2: \"Pullover\",\n",
    "    3: \"Dress\",\n",
    "    4: \"Coat\",\n",
    "    5: \"Sandal\",\n",
    "    6: \"Shirt\",\n",
    "    7: \"Sneaker\",\n",
    "    8: \"Bag\",\n",
    "    9: \"Ankle Boot\",\n",
    "}\n",
    "\n",
    "figure = plt.figure(figsize=(8,8))\n",
    "cols, rows = 3, 3\n",
    "for i in range(1, cols*rows+1):\n",
    "    sample_idx = torch.randint(len(train_dataset), size=(1,)).item()\n",
    "    img, label = train_dataset[sample_idx]\n",
    "    figure.add_subplot(rows, cols, i)\n",
    "    plt.title(labels_map[label])\n",
    "    plt.imshow(img.squeeze(), cmap='gray')\n",
    "    plt.axis('off')\n",
    "plt.show()"
   ]
  },
  {
   "cell_type": "code",
   "execution_count": 7,
   "id": "8a0b253b",
   "metadata": {},
   "outputs": [],
   "source": [
    "from torchsummary import summary"
   ]
  },
  {
   "cell_type": "code",
   "execution_count": 21,
   "id": "b37ebb69",
   "metadata": {},
   "outputs": [
    {
     "name": "stdout",
     "output_type": "stream",
     "text": [
      "----------------------------------------------------------------\n",
      "        Layer (type)               Output Shape         Param #\n",
      "================================================================\n",
      "            Linear-1            [-1, 1, 1, 500]         392,500\n",
      "              ReLU-2            [-1, 1, 1, 500]               0\n",
      "            Linear-3             [-1, 1, 1, 10]           5,010\n",
      "================================================================\n",
      "Total params: 397,510\n",
      "Trainable params: 397,510\n",
      "Non-trainable params: 0\n",
      "----------------------------------------------------------------\n",
      "Input size (MB): 0.00\n",
      "Forward/backward pass size (MB): 0.01\n",
      "Params size (MB): 1.52\n",
      "Estimated Total Size (MB): 1.53\n",
      "----------------------------------------------------------------\n"
     ]
    }
   ],
   "source": [
    "# Fully connected neural network with one hidden layer\n",
    "class NeuralNet(nn.Module):\n",
    "    def __init__(self, input_size, hidden_size, num_classes):\n",
    "        super(NeuralNet, self).__init__()\n",
    "        self.fc1 = nn.Linear(input_size, hidden_size)\n",
    "        self.fc2 = nn.ReLU()\n",
    "        self.fc3 = nn.Linear(hidden_size, num_classes)\n",
    "            \n",
    "    def forward(self, x):\n",
    "        out = self.fc1(x)\n",
    "        out = self.fc2(out)\n",
    "        out = self.fc3(out)\n",
    "        return out\n",
    "    \n",
    "model = NeuralNet(input_size, hidden_size, num_classes).to(device)\n",
    "summary(model, input_size=(1, 1, 784))"
   ]
  },
  {
   "cell_type": "code",
   "execution_count": 22,
   "id": "d91c314d",
   "metadata": {},
   "outputs": [
    {
     "name": "stdout",
     "output_type": "stream",
     "text": [
      "Epoch [1/8]\t Step: [100/600]\t Loss: 0.5643\n",
      "Epoch [1/8]\t Step: [200/600]\t Loss: 0.4500\n",
      "Epoch [1/8]\t Step: [300/600]\t Loss: 0.4111\n",
      "Epoch [1/8]\t Step: [400/600]\t Loss: 0.3297\n",
      "Epoch [1/8]\t Step: [500/600]\t Loss: 0.4366\n",
      "Epoch [1/8]\t Step: [600/600]\t Loss: 0.5234\n",
      "Epoch [2/8]\t Step: [100/600]\t Loss: 0.5589\n",
      "Epoch [2/8]\t Step: [200/600]\t Loss: 0.3584\n",
      "Epoch [2/8]\t Step: [300/600]\t Loss: 0.3050\n",
      "Epoch [2/8]\t Step: [400/600]\t Loss: 0.2254\n",
      "Epoch [2/8]\t Step: [500/600]\t Loss: 0.4721\n",
      "Epoch [2/8]\t Step: [600/600]\t Loss: 0.3762\n",
      "Epoch [3/8]\t Step: [100/600]\t Loss: 0.2040\n",
      "Epoch [3/8]\t Step: [200/600]\t Loss: 0.2916\n",
      "Epoch [3/8]\t Step: [300/600]\t Loss: 0.3269\n",
      "Epoch [3/8]\t Step: [400/600]\t Loss: 0.3345\n",
      "Epoch [3/8]\t Step: [500/600]\t Loss: 0.2561\n",
      "Epoch [3/8]\t Step: [600/600]\t Loss: 0.2947\n",
      "Epoch [4/8]\t Step: [100/600]\t Loss: 0.2496\n",
      "Epoch [4/8]\t Step: [200/600]\t Loss: 0.2604\n",
      "Epoch [4/8]\t Step: [300/600]\t Loss: 0.4631\n",
      "Epoch [4/8]\t Step: [400/600]\t Loss: 0.2849\n",
      "Epoch [4/8]\t Step: [500/600]\t Loss: 0.3834\n",
      "Epoch [4/8]\t Step: [600/600]\t Loss: 0.3617\n",
      "Epoch [5/8]\t Step: [100/600]\t Loss: 0.3446\n",
      "Epoch [5/8]\t Step: [200/600]\t Loss: 0.1347\n",
      "Epoch [5/8]\t Step: [300/600]\t Loss: 0.2692\n",
      "Epoch [5/8]\t Step: [400/600]\t Loss: 0.2148\n",
      "Epoch [5/8]\t Step: [500/600]\t Loss: 0.2978\n",
      "Epoch [5/8]\t Step: [600/600]\t Loss: 0.2653\n",
      "Epoch [6/8]\t Step: [100/600]\t Loss: 0.2939\n",
      "Epoch [6/8]\t Step: [200/600]\t Loss: 0.2386\n",
      "Epoch [6/8]\t Step: [300/600]\t Loss: 0.1974\n",
      "Epoch [6/8]\t Step: [400/600]\t Loss: 0.1954\n",
      "Epoch [6/8]\t Step: [500/600]\t Loss: 0.2141\n",
      "Epoch [6/8]\t Step: [600/600]\t Loss: 0.1952\n",
      "Epoch [7/8]\t Step: [100/600]\t Loss: 0.2747\n",
      "Epoch [7/8]\t Step: [200/600]\t Loss: 0.2180\n",
      "Epoch [7/8]\t Step: [300/600]\t Loss: 0.2278\n",
      "Epoch [7/8]\t Step: [400/600]\t Loss: 0.2801\n",
      "Epoch [7/8]\t Step: [500/600]\t Loss: 0.2879\n",
      "Epoch [7/8]\t Step: [600/600]\t Loss: 0.3269\n",
      "Epoch [8/8]\t Step: [100/600]\t Loss: 0.4272\n",
      "Epoch [8/8]\t Step: [200/600]\t Loss: 0.1976\n",
      "Epoch [8/8]\t Step: [300/600]\t Loss: 0.2814\n",
      "Epoch [8/8]\t Step: [400/600]\t Loss: 0.1662\n",
      "Epoch [8/8]\t Step: [500/600]\t Loss: 0.3423\n",
      "Epoch [8/8]\t Step: [600/600]\t Loss: 0.2019\n"
     ]
    }
   ],
   "source": [
    "# Loss and optimizer\n",
    "criterion = nn.CrossEntropyLoss()\n",
    "optimizer = torch.optim.Adam(model.parameters(), lr=learning_rate)\n",
    "\n",
    "train_loss = []\n",
    "# Train \n",
    "total_steps = len(train_loader)\n",
    "for epoch in range(num_epochs):\n",
    "    for i, (images, labels) in enumerate(train_loader):\n",
    "        images = images.reshape(-1, 28*28).to(device)\n",
    "        labels = labels.to(device)\n",
    "        \n",
    "        # Forward pass\n",
    "        outputs = model(images)\n",
    "        loss = criterion(outputs, labels)\n",
    "        \n",
    "        # Backward\n",
    "        optimizer.zero_grad()\n",
    "        loss.backward()\n",
    "        optimizer.step()\n",
    "        \n",
    "        if (i+1) %100 == 0:\n",
    "            print('Epoch [{}/{}]\\t Step: [{}/{}]\\t Loss: {:.4f}'.\n",
    "                 format((epoch+1), num_epochs, i+1, total_steps, loss.item()))\n",
    "            train_loss.append(loss.item())"
   ]
  },
  {
   "cell_type": "code",
   "execution_count": 32,
   "id": "d983fa2b",
   "metadata": {},
   "outputs": [
    {
     "data": {
      "image/png": "[encoded data removed]",
      "text/plain": [
       "<Figure size 432x288 with 1 Axes>"
      ]
     },
     "metadata": {
      "needs_background": "light"
     },
     "output_type": "display_data"
    }
   ],
   "source": [
    "plt.plot([epoch for epoch in range(1,9)], train_loss[5:48:6], 'ro-')\n",
    "plt.xlabel('Epoch')\n",
    "plt.ylabel('Train Loss')\n",
    "plt.show()"
   ]
  },
  {
   "cell_type": "code",
   "execution_count": null,
   "id": "44bb5803",
   "metadata": {},
   "outputs": [],
   "source": []
  },
  {
   "cell_type": "code",
   "execution_count": 35,
   "id": "c9cf3ecd",
   "metadata": {},
   "outputs": [
    {
     "name": "stdout",
     "output_type": "stream",
     "text": [
      "Accuracy: 88.12\n"
     ]
    }
   ],
   "source": [
    "#test\n",
    "with torch.no_grad():\n",
    "    correct = 0\n",
    "    total = 0\n",
    "    for images, labels in test_loader:\n",
    "        images = images.reshape(-1, 28*28).to(device)\n",
    "        labels = labels.to(device)\n",
    "        outputs = model(images)\n",
    "        _, predicted = torch.max(outputs.data, 1)\n",
    "        total += labels.size(0)\n",
    "        correct += (predicted==labels).sum().item()\n",
    "        \n",
    "    print(f'Accuracy: {(correct/total)*100}')\n",
    "torch.save(model.state_dict(), 'fashion_mnist.pth')"
   ]
  },
  {
   "cell_type": "code",
   "execution_count": null,
   "id": "f714e9a8",
   "metadata": {},
   "outputs": [],
   "source": []
  }
 ],
 "metadata": {
  "kernelspec": {
   "display_name": "pytorch",
   "language": "python",
   "name": "pytorch"
  },
  "language_info": {
   "codemirror_mode": {
    "name": "ipython",
    "version": 3
   },
   "file_extension": ".py",
   "mimetype": "text/x-python",
   "name": "python",
   "nbconvert_exporter": "python",
   "pygments_lexer": "ipython3",
   "version": "3.8.11"
  }
 },
 "nbformat": 4,
 "nbformat_minor": 5
}
