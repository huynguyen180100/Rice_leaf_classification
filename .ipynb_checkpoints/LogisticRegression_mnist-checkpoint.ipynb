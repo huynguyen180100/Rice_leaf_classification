{
 "cells": [
  {
   "cell_type": "code",
   "execution_count": 1,
   "id": "889cac0b",
   "metadata": {},
   "outputs": [],
   "source": [
    "import torch\n",
    "import torch.nn as nn\n",
    "import torchvision\n",
    "import torchvision.transforms as transforms\n",
    "import matplotlib.pyplot as plt"
   ]
  },
  {
   "cell_type": "code",
   "execution_count": 2,
   "id": "0cf5dfb8",
   "metadata": {},
   "outputs": [],
   "source": [
    "import os"
   ]
  },
  {
   "cell_type": "code",
   "execution_count": 5,
   "id": "eb66ba9c",
   "metadata": {},
   "outputs": [
    {
     "name": "stdout",
     "output_type": "stream",
     "text": [
      "Downloading http://yann.lecun.com/exdb/mnist/train-images-idx3-ubyte.gz to data/MNIST/raw/train-images-idx3-ubyte.gz\n"
     ]
    },
    {
     "name": "stderr",
     "output_type": "stream",
     "text": [
      "100.1%"
     ]
    },
    {
     "name": "stdout",
     "output_type": "stream",
     "text": [
      "Extracting data/MNIST/raw/train-images-idx3-ubyte.gz\n",
      "Downloading http://yann.lecun.com/exdb/mnist/train-labels-idx1-ubyte.gz to data/MNIST/raw/train-labels-idx1-ubyte.gz\n"
     ]
    },
    {
     "name": "stderr",
     "output_type": "stream",
     "text": [
      "113.5%"
     ]
    },
    {
     "name": "stdout",
     "output_type": "stream",
     "text": [
      "Extracting data/MNIST/raw/train-labels-idx1-ubyte.gz\n",
      "Downloading http://yann.lecun.com/exdb/mnist/t10k-images-idx3-ubyte.gz to data/MNIST/raw/t10k-images-idx3-ubyte.gz\n"
     ]
    },
    {
     "name": "stderr",
     "output_type": "stream",
     "text": [
      "100.4%"
     ]
    },
    {
     "name": "stdout",
     "output_type": "stream",
     "text": [
      "Extracting data/MNIST/raw/t10k-images-idx3-ubyte.gz\n",
      "Downloading http://yann.lecun.com/exdb/mnist/t10k-labels-idx1-ubyte.gz to data/MNIST/raw/t10k-labels-idx1-ubyte.gz\n"
     ]
    },
    {
     "name": "stderr",
     "output_type": "stream",
     "text": [
      "180.4%"
     ]
    },
    {
     "name": "stdout",
     "output_type": "stream",
     "text": [
      "Extracting data/MNIST/raw/t10k-labels-idx1-ubyte.gz\n",
      "Processing...\n",
      "Done!\n"
     ]
    }
   ],
   "source": [
    "\n",
    "#Hyperparameters\n",
    "input_size = 28*28\n",
    "num_classes = 10\n",
    "num_epochs = 5\n",
    "batch_size =100\n",
    "learning_rate = 1e-3\n",
    "\n",
    "#Images and label\n",
    "train_dataset = torchvision.datasets.MNIST(root='data', \n",
    "                                          train=True,\n",
    "                                          transform=transforms.ToTensor(),\n",
    "                                          download=True)\n",
    "test_dataset = torchvision.datasets.MNIST(root='data',\n",
    "                                         train=False,\n",
    "                                         transform=transforms.ToTensor())\n",
    "\n",
    "# Dataloader\n",
    "train_loader = torch.utils.data.DataLoader(dataset=train_dataset,\n",
    "                                          batch_size=batch_size,\n",
    "                                          shuffle=True)\n",
    "test_loader = torch.utils.data.DataLoader(dataset=test_dataset, \n",
    "                                          batch_size=batch_size, \n",
    "                                          shuffle=False)"
   ]
  },
  {
   "cell_type": "code",
   "execution_count": 7,
   "id": "a908bbf1",
   "metadata": {},
   "outputs": [
    {
     "data": {
      "image/png": "[encoded data removed]",
      "text/plain": [
       "<Figure size 576x576 with 9 Axes>"
      ]
     },
     "metadata": {
      "needs_background": "light"
     },
     "output_type": "display_data"
    }
   ],
   "source": [
    "labels_map = {0:\"0\", 1:\"1\", 2:\"2\", 3:\"3\", 4:\"4\", 5:\"5\", 6:\"6\", 7:\"7\", 8:\"8\", 9:\"9\"}\n",
    "\n",
    "fig = plt.figure(figsize=(8,8))\n",
    "cols, rows = 3, 3\n",
    "for i in range(1, cols*rows + 1):\n",
    "    sample_idx = torch.randint(len(train_dataset), size=(1,)).item()\n",
    "    img, label = train_dataset[sample_idx]\n",
    "    fig.add_subplot(rows, cols, i)\n",
    "    plt.title(labels_map[label])\n",
    "    plt.axis('off')\n",
    "    plt.imshow(img.squeeze(), cmap=\"gray\")\n",
    "plt.show()"
   ]
  },
  {
   "cell_type": "code",
   "execution_count": 9,
   "id": "161087af",
   "metadata": {},
   "outputs": [
    {
     "name": "stdout",
     "output_type": "stream",
     "text": [
      "Epoch: [1/5]\tStep: [100/600]\tLoss: 2.2160863876342773\n",
      "Epoch: [1/5]\tStep: [200/600]\tLoss: 2.1372275352478027\n",
      "Epoch: [1/5]\tStep: [300/600]\tLoss: 2.041733503341675\n",
      "Epoch: [1/5]\tStep: [400/600]\tLoss: 1.9859678745269775\n",
      "Epoch: [1/5]\tStep: [500/600]\tLoss: 1.873059868812561\n",
      "Epoch: [1/5]\tStep: [600/600]\tLoss: 1.848569393157959\n",
      "Epoch: [2/5]\tStep: [100/600]\tLoss: 1.7797977924346924\n",
      "Epoch: [2/5]\tStep: [200/600]\tLoss: 1.6340945959091187\n",
      "Epoch: [2/5]\tStep: [300/600]\tLoss: 1.578627109527588\n",
      "Epoch: [2/5]\tStep: [400/600]\tLoss: 1.509825587272644\n",
      "Epoch: [2/5]\tStep: [500/600]\tLoss: 1.4345612525939941\n",
      "Epoch: [2/5]\tStep: [600/600]\tLoss: 1.3854010105133057\n",
      "Epoch: [3/5]\tStep: [100/600]\tLoss: 1.51389741897583\n",
      "Epoch: [3/5]\tStep: [200/600]\tLoss: 1.3814715147018433\n",
      "Epoch: [3/5]\tStep: [300/600]\tLoss: 1.3649846315383911\n",
      "Epoch: [3/5]\tStep: [400/600]\tLoss: 1.291922926902771\n",
      "Epoch: [3/5]\tStep: [500/600]\tLoss: 1.2220993041992188\n",
      "Epoch: [3/5]\tStep: [600/600]\tLoss: 1.326693058013916\n",
      "Epoch: [4/5]\tStep: [100/600]\tLoss: 1.2145193815231323\n",
      "Epoch: [4/5]\tStep: [200/600]\tLoss: 1.2411787509918213\n",
      "Epoch: [4/5]\tStep: [300/600]\tLoss: 1.2155375480651855\n",
      "Epoch: [4/5]\tStep: [400/600]\tLoss: 1.1630072593688965\n",
      "Epoch: [4/5]\tStep: [500/600]\tLoss: 1.1665407419204712\n",
      "Epoch: [4/5]\tStep: [600/600]\tLoss: 1.1076421737670898\n",
      "Epoch: [5/5]\tStep: [100/600]\tLoss: 1.0109989643096924\n",
      "Epoch: [5/5]\tStep: [200/600]\tLoss: 1.052011251449585\n",
      "Epoch: [5/5]\tStep: [300/600]\tLoss: 1.023259162902832\n",
      "Epoch: [5/5]\tStep: [400/600]\tLoss: 1.0036673545837402\n",
      "Epoch: [5/5]\tStep: [500/600]\tLoss: 0.973274290561676\n",
      "Epoch: [5/5]\tStep: [600/600]\tLoss: 1.0136222839355469\n",
      "Done!\n",
      "Accuracy of the model on test images: 82.80999755859375 %\n"
     ]
    }
   ],
   "source": [
    "# Build model\n",
    "# Logistic regression model\n",
    "model = nn.Linear(input_size, num_classes)\n",
    "#Loss and Opimizer\n",
    "# nn.CrossEntropyLoss() computes softmax internally\n",
    "criterion = nn.CrossEntropyLoss()\n",
    "optimizer = torch.optim.SGD(model.parameters(), lr=learning_rate)  \n",
    "\n",
    "#train_loss = []\n",
    "epochs_train = []\n",
    "# Train \n",
    "total_steps = len(train_loader)\n",
    "for epoch in range(num_epochs):\n",
    "    for i, (images, labels) in enumerate(train_loader):\n",
    "        # Reshape images to (batch_size, input_size)\n",
    "        images = images.reshape(-1, input_size)\n",
    "        \n",
    "        # Forward pass\n",
    "        outputs = model(images)\n",
    "        loss = criterion(outputs, labels)\n",
    "        \n",
    "        # backward and optimize\n",
    "        optimizer.zero_grad()\n",
    "        loss.backward()\n",
    "        optimizer.step()\n",
    "        \n",
    "        if (i+1) % 100 == 0:\n",
    "            print(\"Epoch: [{}/{}]\\tStep: [{}/{}]\\tLoss: {}\"\n",
    "                  .format((epoch+1), num_epochs, i+1, total_steps, loss.item()))\n",
    "            train_loss.append(loss.item())\n",
    "print('Done!')\n",
    "\n",
    "# Test\n",
    "with torch.no_grad():\n",
    "    correct = 0\n",
    "    total = 0\n",
    "    for images, labels in test_loader:\n",
    "        images = images.reshape(-1, input_size)\n",
    "        outputs = model(images)\n",
    "        \n",
    "        _, predicted = torch.max(outputs.data, 1) #return max_elements and max_indiced\n",
    "        total += labels.size(0)\n",
    "        correct += (predicted == labels).sum()\n",
    "    print('Accuracy of the model on test images: {} %'.format(100 * correct / total))\n",
    "torch.save(model.state_dict(), 'mnist.pth')"
   ]
  },
  {
   "cell_type": "code",
   "execution_count": 14,
   "id": "d77b87ad",
   "metadata": {},
   "outputs": [
    {
     "data": {
      "text/plain": [
       "[2.2160863876342773,\n",
       " 1.7797977924346924,\n",
       " 1.51389741897583,\n",
       " 1.2145193815231323,\n",
       " 1.0109989643096924]"
      ]
     },
     "execution_count": 14,
     "metadata": {},
     "output_type": "execute_result"
    }
   ],
   "source": [
    "train_loss[0:30:6]"
   ]
  },
  {
   "cell_type": "code",
   "execution_count": 17,
   "id": "30dd4875",
   "metadata": {},
   "outputs": [
    {
     "data": {
      "image/png": "[encoded data removed]",
      "text/plain": [
       "<Figure size 432x288 with 1 Axes>"
      ]
     },
     "metadata": {
      "needs_background": "light"
     },
     "output_type": "display_data"
    }
   ],
   "source": [
    "train_epochs = [j for j in range(1,6)]\n",
    "plt.plot(train_epochs, train_loss[0:30:6], 'ro-')\n",
    "plt.xlabel('Epoch')\n",
    "plt.ylabel('Loss')\n",
    "plt.show()"
   ]
  },
  {
   "cell_type": "code",
   "execution_count": null,
   "id": "5777932e",
   "metadata": {},
   "outputs": [],
   "source": []
  }
 ],
 "metadata": {
  "kernelspec": {
   "display_name": "pytorch",
   "language": "python",
   "name": "pytorch"
  },
  "language_info": {
   "codemirror_mode": {
    "name": "ipython",
    "version": 3
   },
   "file_extension": ".py",
   "mimetype": "text/x-python",
   "name": "python",
   "nbconvert_exporter": "python",
   "pygments_lexer": "ipython3",
   "version": "3.8.12"
  }
 },
 "nbformat": 4,
 "nbformat_minor": 5
}
